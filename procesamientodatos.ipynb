{
 "cells": [
  {
   "cell_type": "markdown",
   "metadata": {},
   "source": [
    "# Caso de Estudio: Análisis y Predicción de Datos de Empleados\n",
    "\n",
    "Desarrollar el análisis y modelado sobre un dataset de empleados de una empresa. Este dataset incluye información sobre la educación, año de incorporación, ciudad de trabajo, categoría salarial, edad, género, si han sido asignados temporalmente a la banca (EverBenched), experiencia en el dominio actual y si el empleado tomó tiempo libre (LeaveOrNot). El dataset ha sido modificado para incluir datos faltantes, añadiendo realismo al desafío analítico."
   ]
  },
  {
   "cell_type": "markdown",
   "metadata": {},
   "source": [
    "# Preprocesamiento de Datos:\n",
    "\n",
    "## Cargar el dataset\n",
    "\n",
    "Se cargan los datos del archivo csv EmployeesData.csv\n"
   ]
  },
  {
   "cell_type": "code",
   "execution_count": null,
   "metadata": {},
   "outputs": [],
   "source": [
    "import pandas as pd\n",
    "\n",
    "df = pd.read_csv('EmployeesData.csv')\n"
   ]
  },
  {
   "cell_type": "markdown",
   "metadata": {},
   "source": [
    "## Se verifica si existen datos faltantes\n",
    "\n",
    "Se agrega el .sum() para que sume el número de valores faltantes por columna, ya que al mostrar solamente los nulos la tabla es resumida en este jupiter notebook. De esta manera podemos cuantificar esto mejor."
   ]
  },
  {
   "cell_type": "code",
   "execution_count": 7,
   "metadata": {},
   "outputs": [
    {
     "name": "stdout",
     "output_type": "stream",
     "text": [
      "Education                     0\n",
      "JoiningYear                   0\n",
      "City                          0\n",
      "PaymentTier                  41\n",
      "Age                          27\n",
      "Gender                        0\n",
      "EverBenched                   0\n",
      "ExperienceInCurrentDomain     0\n",
      "LeaveOrNot                    0\n",
      "dtype: int64\n"
     ]
    }
   ],
   "source": [
    "print(df.isnull().sum())\n"
   ]
  },
  {
   "cell_type": "markdown",
   "metadata": {},
   "source": [
    "## Convertir la columna 'LeaveOrNot' de valores binarios a etiquetas categóricas:"
   ]
  },
  {
   "cell_type": "code",
   "execution_count": 4,
   "metadata": {},
   "outputs": [],
   "source": [
    "df['LeaveOrNot'] = df['LeaveOrNot'].map({0: 'Not Leave', 1: 'Leave'})"
   ]
  },
  {
   "cell_type": "markdown",
   "metadata": {},
   "source": [
    "## Eliminar filas con valores faltantes en 'ExperienceInCurrentDomain' y 'JoiningYear':"
   ]
  },
  {
   "cell_type": "code",
   "execution_count": 5,
   "metadata": {},
   "outputs": [],
   "source": [
    "df = df.dropna(subset=['ExperienceInCurrentDomain', 'JoiningYear'])\n"
   ]
  },
  {
   "cell_type": "markdown",
   "metadata": {},
   "source": [
    "## Imputar datos faltantes de la colúmna Age con la media.\n",
    "\n",
    "Para llenar los datos se utiliza la función fillna y .mean() que es la función de agregación destinada para la media"
   ]
  },
  {
   "cell_type": "code",
   "execution_count": 9,
   "metadata": {},
   "outputs": [],
   "source": [
    "df['Age'] = df['Age'].fillna(df['Age'].mean())"
   ]
  },
  {
   "cell_type": "markdown",
   "metadata": {},
   "source": [
    "## Imputar datos faltantes en 'PaymentTier' con la moda:\n",
    "\n",
    "Para llenar los datos se utiliza la función fillna y .mode() que es la función de agregación destinada para la moda"
   ]
  },
  {
   "cell_type": "code",
   "execution_count": 8,
   "metadata": {},
   "outputs": [],
   "source": [
    "df['PaymentTier'] = df['PaymentTier'].fillna(df['PaymentTier'].mode()[0])\n"
   ]
  },
  {
   "cell_type": "markdown",
   "metadata": {},
   "source": [
    "## Eliminar registros con valores atípicos usando el análisis de IQR:"
   ]
  },
  {
   "cell_type": "code",
   "execution_count": 11,
   "metadata": {},
   "outputs": [],
   "source": [
    "# Se seleccionan únicamente las columnas numéricas, ya que encontré errores al usar todo el dataset\n",
    "num_columns = df.select_dtypes(include=['number']).columns\n",
    "\n",
    "#Se calcula el IQR para las columnas numéricas: \n",
    "Q1 = df[num_columns].quantile(0.25)\n",
    "Q3 = df[num_columns].quantile(0.75)\n",
    "IQR = Q3 - Q1\n",
    "\n",
    "# Filtrar filas para eliminar valores atípicos\n",
    "df = df[~((df[num_columns] < (Q1 - 1.5 * IQR)) | (df[num_columns] > (Q3 + 1.5 * IQR))).any(axis=1)]\n",
    "\n"
   ]
  },
  {
   "cell_type": "markdown",
   "metadata": {},
   "source": [
    "# Análisis Exploratorio de Datos EDA\n",
    "\n",
    "## Graficar la distribución de los sexos con un gráfico de torta"
   ]
  },
  {
   "cell_type": "code",
   "execution_count": null,
   "metadata": {},
   "outputs": [],
   "source": []
  }
 ],
 "metadata": {
  "kernelspec": {
   "display_name": "Python 3",
   "language": "python",
   "name": "python3"
  },
  "language_info": {
   "codemirror_mode": {
    "name": "ipython",
    "version": 3
   },
   "file_extension": ".py",
   "mimetype": "text/x-python",
   "name": "python",
   "nbconvert_exporter": "python",
   "pygments_lexer": "ipython3",
   "version": "3.9.5"
  }
 },
 "nbformat": 4,
 "nbformat_minor": 2
}
